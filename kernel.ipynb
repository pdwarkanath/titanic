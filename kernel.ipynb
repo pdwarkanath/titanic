{
  "cells": [
    {
      "metadata": {
        "_uuid": "85e76806ac32e4bcb80bdd9cecbb6ef53201a10c",
        "trusted": true
      },
      "cell_type": "code",
      "source": "import pandas as pd\nimport numpy as np\nimport matplotlib.pyplot as plt\n%matplotlib inline\nimport seaborn as sns\nimport re\nfrom sklearn.preprocessing import LabelEncoder\nfrom sklearn.preprocessing import MinMaxScaler\nimport warnings\nwarnings.filterwarnings('ignore')\nimport tensorflow as tf\nfrom sklearn.svm import SVC\nfrom sklearn.ensemble import RandomForestClassifier\nfrom tensorflow.python.saved_model import tag_constants\nfrom sklearn.metrics import confusion_matrix",
      "execution_count": 1,
      "outputs": []
    },
    {
      "metadata": {
        "_uuid": "7a10f925d93643ad180b8956f6348538c207df2a",
        "trusted": true
      },
      "cell_type": "code",
      "source": "train = pd.read_csv('../input/train.csv')",
      "execution_count": 2,
      "outputs": []
    },
    {
      "metadata": {
        "_uuid": "c9b27f913eef19b027e57febc5fbeed3d9fca8ea",
        "trusted": true
      },
      "cell_type": "code",
      "source": "train.head()",
      "execution_count": 3,
      "outputs": [
        {
          "output_type": "execute_result",
          "execution_count": 3,
          "data": {
            "text/plain": "   PassengerId  Survived  Pclass    ...        Fare Cabin  Embarked\n0            1         0       3    ...      7.2500   NaN         S\n1            2         1       1    ...     71.2833   C85         C\n2            3         1       3    ...      7.9250   NaN         S\n3            4         1       1    ...     53.1000  C123         S\n4            5         0       3    ...      8.0500   NaN         S\n\n[5 rows x 12 columns]",
            "text/html": "<div>\n<style scoped>\n    .dataframe tbody tr th:only-of-type {\n        vertical-align: middle;\n    }\n\n    .dataframe tbody tr th {\n        vertical-align: top;\n    }\n\n    .dataframe thead th {\n        text-align: right;\n    }\n</style>\n<table border=\"1\" class=\"dataframe\">\n  <thead>\n    <tr style=\"text-align: right;\">\n      <th></th>\n      <th>PassengerId</th>\n      <th>Survived</th>\n      <th>Pclass</th>\n      <th>Name</th>\n      <th>Sex</th>\n      <th>Age</th>\n      <th>SibSp</th>\n      <th>Parch</th>\n      <th>Ticket</th>\n      <th>Fare</th>\n      <th>Cabin</th>\n      <th>Embarked</th>\n    </tr>\n  </thead>\n  <tbody>\n    <tr>\n      <th>0</th>\n      <td>1</td>\n      <td>0</td>\n      <td>3</td>\n      <td>Braund, Mr. Owen Harris</td>\n      <td>male</td>\n      <td>22.0</td>\n      <td>1</td>\n      <td>0</td>\n      <td>A/5 21171</td>\n      <td>7.2500</td>\n      <td>NaN</td>\n      <td>S</td>\n    </tr>\n    <tr>\n      <th>1</th>\n      <td>2</td>\n      <td>1</td>\n      <td>1</td>\n      <td>Cumings, Mrs. John Bradley (Florence Briggs Th...</td>\n      <td>female</td>\n      <td>38.0</td>\n      <td>1</td>\n      <td>0</td>\n      <td>PC 17599</td>\n      <td>71.2833</td>\n      <td>C85</td>\n      <td>C</td>\n    </tr>\n    <tr>\n      <th>2</th>\n      <td>3</td>\n      <td>1</td>\n      <td>3</td>\n      <td>Heikkinen, Miss. Laina</td>\n      <td>female</td>\n      <td>26.0</td>\n      <td>0</td>\n      <td>0</td>\n      <td>STON/O2. 3101282</td>\n      <td>7.9250</td>\n      <td>NaN</td>\n      <td>S</td>\n    </tr>\n    <tr>\n      <th>3</th>\n      <td>4</td>\n      <td>1</td>\n      <td>1</td>\n      <td>Futrelle, Mrs. Jacques Heath (Lily May Peel)</td>\n      <td>female</td>\n      <td>35.0</td>\n      <td>1</td>\n      <td>0</td>\n      <td>113803</td>\n      <td>53.1000</td>\n      <td>C123</td>\n      <td>S</td>\n    </tr>\n    <tr>\n      <th>4</th>\n      <td>5</td>\n      <td>0</td>\n      <td>3</td>\n      <td>Allen, Mr. William Henry</td>\n      <td>male</td>\n      <td>35.0</td>\n      <td>0</td>\n      <td>0</td>\n      <td>373450</td>\n      <td>8.0500</td>\n      <td>NaN</td>\n      <td>S</td>\n    </tr>\n  </tbody>\n</table>\n</div>"
          },
          "metadata": {}
        }
      ]
    },
    {
      "metadata": {
        "_uuid": "2f834619eda2e8675d02db265c6917062907c11a",
        "trusted": true
      },
      "cell_type": "code",
      "source": "train.info()",
      "execution_count": 4,
      "outputs": [
        {
          "output_type": "stream",
          "text": "<class 'pandas.core.frame.DataFrame'>\nRangeIndex: 891 entries, 0 to 890\nData columns (total 12 columns):\nPassengerId    891 non-null int64\nSurvived       891 non-null int64\nPclass         891 non-null int64\nName           891 non-null object\nSex            891 non-null object\nAge            714 non-null float64\nSibSp          891 non-null int64\nParch          891 non-null int64\nTicket         891 non-null object\nFare           891 non-null float64\nCabin          204 non-null object\nEmbarked       889 non-null object\ndtypes: float64(2), int64(5), object(5)\nmemory usage: 83.6+ KB\n",
          "name": "stdout"
        }
      ]
    },
    {
      "metadata": {
        "_uuid": "8e3a7c80a665d307e025318dbe46fc779a0c26f4"
      },
      "cell_type": "markdown",
      "source": "As it can be seen, there are several missing data points. Specifically, in age and cabin. \n\nSince, we need to predict the 'Survived' column based on other columns, we will need as much data as possible. Steps to do this:\n\n1. See correlation between survived and other columns\n2. Combine train and test dataset\n3. Extract titles from names\n4. Fill in missing data\n    1. Age\n    2. Embarked\n    3. Fare\n5. Add is_alone variable\n6. Convert data to categorical variables\n7. Normalize data to be between 0 and 1\n8. Separate labels (y) from data\n9. Create training and dev sets\n10. Set up then neural networks to predict y\n11. Create submission file and submit\n12. Try Other Models - SVM and Random Forest\n13. Average All Predictions"
    },
    {
      "metadata": {
        "_uuid": "d70a0ecf8493daf56e498123b79162516738db22"
      },
      "cell_type": "markdown",
      "source": "## Step 1: See correlation between survived and other columns"
    },
    {
      "metadata": {
        "_uuid": "0462a2deb683d6659cce35c21a2cb5eb19357498",
        "trusted": true
      },
      "cell_type": "code",
      "source": "train.columns\nm = train.shape[0]",
      "execution_count": 5,
      "outputs": []
    },
    {
      "metadata": {
        "_uuid": "ce0f0ee806af1b49b6aa26dd06fd5dcc15a0771c"
      },
      "cell_type": "markdown",
      "source": "Since PassengerId and name is unique to an individual, there is no relation that can be drawn with 'Survived'. \n\nHowever, Pclass, Sex, SibSp, Parch, and Embarked are categorical variables with distinct values that can impact 'Survived'."
    },
    {
      "metadata": {
        "_uuid": "6a28ccdd13e7c483235b91560d3f3aa66d950bb1",
        "trusted": true
      },
      "cell_type": "code",
      "source": "catCols = ['Pclass', 'Sex', 'SibSp', 'Parch', 'Embarked']\nj = 0\nfor i in catCols:\n    plt.figure(j)\n    sns.barplot(x = i, y = 'Survived', data = train)\n    plt.show()\n    j+=1",
      "execution_count": 6,
      "outputs": [
        {
          "output_type": "display_data",
          "data": {
            "text/plain": "<Figure size 432x288 with 1 Axes>",
            "image/png": "[encoded data removed]"
          },
          "metadata": {}
        },
        {
          "output_type": "display_data",
          "data": {
            "text/plain": "<Figure size 432x288 with 1 Axes>",
            "image/png": "[encoded data removed]"
          },
          "metadata": {}
        },
        {
          "output_type": "display_data",
          "data": {
            "text/plain": "<Figure size 432x288 with 1 Axes>",
            "image/png": "[encoded data removed]"
          },
          "metadata": {}
        },
        {
          "output_type": "display_data",
          "data": {
            "text/plain": "<Figure size 432x288 with 1 Axes>",
            "image/png": "[encoded data removed]"
          },
          "metadata": {}
        },
        {
          "output_type": "display_data",
          "data": {
            "text/plain": "<Figure size 432x288 with 1 Axes>",
            "image/png": "[encoded data removed]"
          },
          "metadata": {}
        }
      ]
    },
    {
      "metadata": {
        "_uuid": "9f3ae84313db584ce8f3e2b996d2a2947e1b34f6"
      },
      "cell_type": "markdown",
      "source": "We can use all these variables as they all seem to have an impact on the survival of the passenger."
    },
    {
      "metadata": {
        "_uuid": "2ce935481b3310b9a4ad04e5bfe08f0289bdf074"
      },
      "cell_type": "markdown",
      "source": "## Step 2: Combine train and test dataset\n\nWe will be transforming the training set to make it suitable for use in a machine learning model. Eg. convert string variables to categorical variables. The words 'male' and 'female' cannot be directly used for input. Instead they have to be replaced by 0 and 1 to feed to the model.\n\nThe same transformations also need to be applied on the test set because the trained model expects the input in this format. The best way to achieve this is to combine the two dataset and apply all transformations together. "
    },
    {
      "metadata": {
        "_uuid": "b0216622a49039fb609f58d6de0a831fe7ca0c03",
        "trusted": true
      },
      "cell_type": "code",
      "source": "test = pd.read_csv('../input/test.csv')",
      "execution_count": 7,
      "outputs": []
    },
    {
      "metadata": {
        "_uuid": "6656e2e2ae355991693d3c0242d6b6dc9fb63bb8",
        "trusted": true
      },
      "cell_type": "code",
      "source": "dfs = [train,test]\ndata = pd.concat(dfs,ignore_index=True)",
      "execution_count": 8,
      "outputs": []
    },
    {
      "metadata": {
        "_uuid": "61d785270888b7f1a4495c8aec3ed41dd1806748",
        "trusted": true
      },
      "cell_type": "code",
      "source": "data.head()",
      "execution_count": 9,
      "outputs": [
        {
          "output_type": "execute_result",
          "execution_count": 9,
          "data": {
            "text/plain": "    Age Cabin Embarked        ...         SibSp Survived            Ticket\n0  22.0   NaN        S        ...             1      0.0         A/5 21171\n1  38.0   C85        C        ...             1      1.0          PC 17599\n2  26.0   NaN        S        ...             0      1.0  STON/O2. 3101282\n3  35.0  C123        S        ...             1      1.0            113803\n4  35.0   NaN        S        ...             0      0.0            373450\n\n[5 rows x 12 columns]",
            "text/html": "<div>\n<style scoped>\n    .dataframe tbody tr th:only-of-type {\n        vertical-align: middle;\n    }\n\n    .dataframe tbody tr th {\n        vertical-align: top;\n    }\n\n    .dataframe thead th {\n        text-align: right;\n    }\n</style>\n<table border=\"1\" class=\"dataframe\">\n  <thead>\n    <tr style=\"text-align: right;\">\n      <th></th>\n      <th>Age</th>\n      <th>Cabin</th>\n      <th>Embarked</th>\n      <th>Fare</th>\n      <th>Name</th>\n      <th>Parch</th>\n      <th>PassengerId</th>\n      <th>Pclass</th>\n      <th>Sex</th>\n      <th>SibSp</th>\n      <th>Survived</th>\n      <th>Ticket</th>\n    </tr>\n  </thead>\n  <tbody>\n    <tr>\n      <th>0</th>\n      <td>22.0</td>\n      <td>NaN</td>\n      <td>S</td>\n      <td>7.2500</td>\n      <td>Braund, Mr. Owen Harris</td>\n      <td>0</td>\n      <td>1</td>\n      <td>3</td>\n      <td>male</td>\n      <td>1</td>\n      <td>0.0</td>\n      <td>A/5 21171</td>\n    </tr>\n    <tr>\n      <th>1</th>\n      <td>38.0</td>\n      <td>C85</td>\n      <td>C</td>\n      <td>71.2833</td>\n      <td>Cumings, Mrs. John Bradley (Florence Briggs Th...</td>\n      <td>0</td>\n      <td>2</td>\n      <td>1</td>\n      <td>female</td>\n      <td>1</td>\n      <td>1.0</td>\n      <td>PC 17599</td>\n    </tr>\n    <tr>\n      <th>2</th>\n      <td>26.0</td>\n      <td>NaN</td>\n      <td>S</td>\n      <td>7.9250</td>\n      <td>Heikkinen, Miss. Laina</td>\n      <td>0</td>\n      <td>3</td>\n      <td>3</td>\n      <td>female</td>\n      <td>0</td>\n      <td>1.0</td>\n      <td>STON/O2. 3101282</td>\n    </tr>\n    <tr>\n      <th>3</th>\n      <td>35.0</td>\n      <td>C123</td>\n      <td>S</td>\n      <td>53.1000</td>\n      <td>Futrelle, Mrs. Jacques Heath (Lily May Peel)</td>\n      <td>0</td>\n      <td>4</td>\n      <td>1</td>\n      <td>female</td>\n      <td>1</td>\n      <td>1.0</td>\n      <td>113803</td>\n    </tr>\n    <tr>\n      <th>4</th>\n      <td>35.0</td>\n      <td>NaN</td>\n      <td>S</td>\n      <td>8.0500</td>\n      <td>Allen, Mr. William Henry</td>\n      <td>0</td>\n      <td>5</td>\n      <td>3</td>\n      <td>male</td>\n      <td>0</td>\n      <td>0.0</td>\n      <td>373450</td>\n    </tr>\n  </tbody>\n</table>\n</div>"
          },
          "metadata": {}
        }
      ]
    },
    {
      "metadata": {
        "_uuid": "efcb0e3fe20c544b935d878dea71c4fe58af2adb"
      },
      "cell_type": "markdown",
      "source": "## Step 3: Extract titles from names"
    },
    {
      "metadata": {
        "_uuid": "bb8712d654aae316d75bfa4e4ae6e007d822e9c9"
      },
      "cell_type": "markdown",
      "source": "The names begin with certain titles - Master/Miss for children and Mr. / Mrs. for adults. These can be extracted to create a new feature using RegEx"
    },
    {
      "metadata": {
        "_uuid": "f42f627df772c1f1675ab80b34bc2d8ed5e7c9e2",
        "trusted": true
      },
      "cell_type": "code",
      "source": "def getTitles(names):\n    titleRegex = re.compile(r',.\\w+\\.')    \n    title = []\n    for str in names:\n        titlePat = re.search(titleRegex,str)\n        if titlePat is None:\n            title.append(str)\n        else:\n            x = titlePat.group()\n            x = x[2:len(x)-1]\n            title.append(x)\n    return title\n\n\ntitle = getTitles(data['Name'])",
      "execution_count": 10,
      "outputs": []
    },
    {
      "metadata": {
        "_uuid": "3e2f70f6a732836110b2b983db87081ad8bf0859",
        "trusted": true
      },
      "cell_type": "code",
      "source": "set(title)",
      "execution_count": 11,
      "outputs": [
        {
          "output_type": "execute_result",
          "execution_count": 11,
          "data": {
            "text/plain": "{'Capt',\n 'Col',\n 'Don',\n 'Dona',\n 'Dr',\n 'Jonkheer',\n 'Lady',\n 'Major',\n 'Master',\n 'Miss',\n 'Mlle',\n 'Mme',\n 'Mr',\n 'Mrs',\n 'Ms',\n 'Rev',\n 'Rothes, the Countess. of (Lucy Noel Martha Dyer-Edwards)',\n 'Sir'}"
          },
          "metadata": {}
        }
      ]
    },
    {
      "metadata": {
        "_uuid": "46d8ecf7d2014593e58828fb3056e01ffa57a240",
        "trusted": true
      },
      "cell_type": "code",
      "source": "def getCleanTitles(title):\n    for i in range(len(title)):\n        if title[i] in ['Don', 'Sir', 'Jonkheer']:\n            title[i] = 'Noble'\n        elif title[i] in ['Rothes, the Countess. of (Lucy Noel Martha Dyer-Edwards)', 'Lady', 'Dona']:\n            title[i] = 'Noble'\n        elif title[i] in ['Mlle', 'Ms']:\n            title[i] = 'Miss'\n        elif title[i] == 'Mme':\n            title[i] = 'Mrs'\n        elif title[i] in ['Capt', 'Col', 'Dr', 'Major', 'Rev']:\n            title[i] = 'Other'\n    return title\n\ndata['Title'] = getCleanTitles(title)",
      "execution_count": 12,
      "outputs": []
    },
    {
      "metadata": {
        "_uuid": "881f5a506caa391c178f72b3e040b8a7b439f8c7",
        "trusted": true
      },
      "cell_type": "code",
      "source": "data.head()",
      "execution_count": 13,
      "outputs": [
        {
          "output_type": "execute_result",
          "execution_count": 13,
          "data": {
            "text/plain": "    Age Cabin Embarked     Fare  ...   SibSp  Survived            Ticket  Title\n0  22.0   NaN        S   7.2500  ...       1       0.0         A/5 21171     Mr\n1  38.0   C85        C  71.2833  ...       1       1.0          PC 17599    Mrs\n2  26.0   NaN        S   7.9250  ...       0       1.0  STON/O2. 3101282   Miss\n3  35.0  C123        S  53.1000  ...       1       1.0            113803    Mrs\n4  35.0   NaN        S   8.0500  ...       0       0.0            373450     Mr\n\n[5 rows x 13 columns]",
            "text/html": "<div>\n<style scoped>\n    .dataframe tbody tr th:only-of-type {\n        vertical-align: middle;\n    }\n\n    .dataframe tbody tr th {\n        vertical-align: top;\n    }\n\n    .dataframe thead th {\n        text-align: right;\n    }\n</style>\n<table border=\"1\" class=\"dataframe\">\n  <thead>\n    <tr style=\"text-align: right;\">\n      <th></th>\n      <th>Age</th>\n      <th>Cabin</th>\n      <th>Embarked</th>\n      <th>Fare</th>\n      <th>Name</th>\n      <th>Parch</th>\n      <th>PassengerId</th>\n      <th>Pclass</th>\n      <th>Sex</th>\n      <th>SibSp</th>\n      <th>Survived</th>\n      <th>Ticket</th>\n      <th>Title</th>\n    </tr>\n  </thead>\n  <tbody>\n    <tr>\n      <th>0</th>\n      <td>22.0</td>\n      <td>NaN</td>\n      <td>S</td>\n      <td>7.2500</td>\n      <td>Braund, Mr. Owen Harris</td>\n      <td>0</td>\n      <td>1</td>\n      <td>3</td>\n      <td>male</td>\n      <td>1</td>\n      <td>0.0</td>\n      <td>A/5 21171</td>\n      <td>Mr</td>\n    </tr>\n    <tr>\n      <th>1</th>\n      <td>38.0</td>\n      <td>C85</td>\n      <td>C</td>\n      <td>71.2833</td>\n      <td>Cumings, Mrs. John Bradley (Florence Briggs Th...</td>\n      <td>0</td>\n      <td>2</td>\n      <td>1</td>\n      <td>female</td>\n      <td>1</td>\n      <td>1.0</td>\n      <td>PC 17599</td>\n      <td>Mrs</td>\n    </tr>\n    <tr>\n      <th>2</th>\n      <td>26.0</td>\n      <td>NaN</td>\n      <td>S</td>\n      <td>7.9250</td>\n      <td>Heikkinen, Miss. Laina</td>\n      <td>0</td>\n      <td>3</td>\n      <td>3</td>\n      <td>female</td>\n      <td>0</td>\n      <td>1.0</td>\n      <td>STON/O2. 3101282</td>\n      <td>Miss</td>\n    </tr>\n    <tr>\n      <th>3</th>\n      <td>35.0</td>\n      <td>C123</td>\n      <td>S</td>\n      <td>53.1000</td>\n      <td>Futrelle, Mrs. Jacques Heath (Lily May Peel)</td>\n      <td>0</td>\n      <td>4</td>\n      <td>1</td>\n      <td>female</td>\n      <td>1</td>\n      <td>1.0</td>\n      <td>113803</td>\n      <td>Mrs</td>\n    </tr>\n    <tr>\n      <th>4</th>\n      <td>35.0</td>\n      <td>NaN</td>\n      <td>S</td>\n      <td>8.0500</td>\n      <td>Allen, Mr. William Henry</td>\n      <td>0</td>\n      <td>5</td>\n      <td>3</td>\n      <td>male</td>\n      <td>0</td>\n      <td>0.0</td>\n      <td>373450</td>\n      <td>Mr</td>\n    </tr>\n  </tbody>\n</table>\n</div>"
          },
          "metadata": {}
        }
      ]
    },
    {
      "metadata": {
        "_uuid": "6165380d6b7c8dc2cb71c7f16158cd135e09c55a"
      },
      "cell_type": "markdown",
      "source": "## Step 4: Fill in missing data\n\nThe more data we have available, the better the predictions can be. Hence, instead of discarding rows with data missing in some columns, we will try to fill it with some reasonable value so that the rest of the data in the row does not go to waste."
    },
    {
      "metadata": {
        "_uuid": "1798985421ac9a3d865dad7c8aed7a055513bb52",
        "trusted": true
      },
      "cell_type": "code",
      "source": "data.info()",
      "execution_count": 14,
      "outputs": [
        {
          "output_type": "stream",
          "text": "<class 'pandas.core.frame.DataFrame'>\nRangeIndex: 1309 entries, 0 to 1308\nData columns (total 13 columns):\nAge            1046 non-null float64\nCabin          295 non-null object\nEmbarked       1307 non-null object\nFare           1308 non-null float64\nName           1309 non-null object\nParch          1309 non-null int64\nPassengerId    1309 non-null int64\nPclass         1309 non-null int64\nSex            1309 non-null object\nSibSp          1309 non-null int64\nSurvived       891 non-null float64\nTicket         1309 non-null object\nTitle          1309 non-null object\ndtypes: float64(3), int64(4), object(6)\nmemory usage: 133.0+ KB\n",
          "name": "stdout"
        }
      ]
    },
    {
      "metadata": {
        "_uuid": "636a033f3c539593a1b3c9a84a859cf7b13f2648"
      },
      "cell_type": "markdown",
      "source": "Since Cabin has several missing values, we will not include it in our list of features. However, we can try filling in missing values in Age, Embarked and Fare."
    },
    {
      "metadata": {
        "_uuid": "0d1e50dcf830d81b729b23df5d0f3aa5d1750bb0"
      },
      "cell_type": "markdown",
      "source": "### A. Age\n\nAge is closely associated with Title, hence we will use the mean of ages for titles to replace missing values for rows with those titles."
    },
    {
      "metadata": {
        "_uuid": "909865535e41d3a87d61ecd7c979a4d3bc9066b7",
        "trusted": true
      },
      "cell_type": "code",
      "source": "data.groupby('Title').Age.mean()",
      "execution_count": 15,
      "outputs": [
        {
          "output_type": "execute_result",
          "execution_count": 15,
          "data": {
            "text/plain": "Title\nMaster     5.482642\nMiss      21.824366\nMr        32.252151\nMrs       36.918129\nNoble     41.166667\nOther     46.272727\nName: Age, dtype: float64"
          },
          "metadata": {}
        }
      ]
    },
    {
      "metadata": {
        "_uuid": "d0e86b935748f13f93fe72478f07bc5c2eceac4d",
        "trusted": true
      },
      "cell_type": "code",
      "source": "data['Age'].fillna(data.groupby('Title')['Age'].transform(\"mean\"), inplace=True)",
      "execution_count": 16,
      "outputs": []
    },
    {
      "metadata": {
        "_uuid": "2641fc166c8c703a88b5870682dec91aa7dd1913"
      },
      "cell_type": "markdown",
      "source": "### B. Embarked\n"
    },
    {
      "metadata": {
        "_uuid": "6701663c257b881efaeff13cc4d159f68bf086a6",
        "trusted": true
      },
      "cell_type": "code",
      "source": "data.loc[pd.isnull(data['Embarked'])]",
      "execution_count": 17,
      "outputs": [
        {
          "output_type": "execute_result",
          "execution_count": 17,
          "data": {
            "text/plain": "      Age Cabin Embarked  Fare  ...   SibSp  Survived  Ticket  Title\n61   38.0   B28      NaN  80.0  ...       0       1.0  113572   Miss\n829  62.0   B28      NaN  80.0  ...       0       1.0  113572    Mrs\n\n[2 rows x 13 columns]",
            "text/html": "<div>\n<style scoped>\n    .dataframe tbody tr th:only-of-type {\n        vertical-align: middle;\n    }\n\n    .dataframe tbody tr th {\n        vertical-align: top;\n    }\n\n    .dataframe thead th {\n        text-align: right;\n    }\n</style>\n<table border=\"1\" class=\"dataframe\">\n  <thead>\n    <tr style=\"text-align: right;\">\n      <th></th>\n      <th>Age</th>\n      <th>Cabin</th>\n      <th>Embarked</th>\n      <th>Fare</th>\n      <th>Name</th>\n      <th>Parch</th>\n      <th>PassengerId</th>\n      <th>Pclass</th>\n      <th>Sex</th>\n      <th>SibSp</th>\n      <th>Survived</th>\n      <th>Ticket</th>\n      <th>Title</th>\n    </tr>\n  </thead>\n  <tbody>\n    <tr>\n      <th>61</th>\n      <td>38.0</td>\n      <td>B28</td>\n      <td>NaN</td>\n      <td>80.0</td>\n      <td>Icard, Miss. Amelie</td>\n      <td>0</td>\n      <td>62</td>\n      <td>1</td>\n      <td>female</td>\n      <td>0</td>\n      <td>1.0</td>\n      <td>113572</td>\n      <td>Miss</td>\n    </tr>\n    <tr>\n      <th>829</th>\n      <td>62.0</td>\n      <td>B28</td>\n      <td>NaN</td>\n      <td>80.0</td>\n      <td>Stone, Mrs. George Nelson (Martha Evelyn)</td>\n      <td>0</td>\n      <td>830</td>\n      <td>1</td>\n      <td>female</td>\n      <td>0</td>\n      <td>1.0</td>\n      <td>113572</td>\n      <td>Mrs</td>\n    </tr>\n  </tbody>\n</table>\n</div>"
          },
          "metadata": {}
        }
      ]
    },
    {
      "metadata": {
        "_uuid": "00803c2c81bc61d81336305d46db8ec9c16a6690"
      },
      "cell_type": "markdown",
      "source": "There are 2 missing values in Embarked which can be found online"
    },
    {
      "metadata": {
        "_uuid": "03f15df57f7b0c9f18bb679f1c8768cbd8b9fb9d",
        "trusted": true
      },
      "cell_type": "code",
      "source": "data.loc[61,'Embarked'] = 'S'\ndata.loc[829,'Embarked'] = 'S'",
      "execution_count": 18,
      "outputs": []
    },
    {
      "metadata": {
        "_uuid": "32903e54a7142855719e5a24c2a2df215c7d72f4"
      },
      "cell_type": "markdown",
      "source": "As per this source:\n\nhttps://www.encyclopedia-titanica.org/titanic-survivor/amelia-icard.html\n\nhttps://www.encyclopedia-titanica.org/titanic-survivor/martha-evelyn-stone.html"
    },
    {
      "metadata": {
        "_uuid": "eeacb7175f3424ee9d9ca8ba2637e57228bc1c30"
      },
      "cell_type": "markdown",
      "source": "### C. Fare\n\nFare still has one missing value. Fill it with the mean"
    },
    {
      "metadata": {
        "_uuid": "4409dd8a47de2b2a1a39eb9ab7f5cde7564a773d",
        "trusted": true
      },
      "cell_type": "code",
      "source": "data['Fare'].fillna(data['Fare'].mean(), inplace = True)",
      "execution_count": 19,
      "outputs": []
    },
    {
      "metadata": {
        "_uuid": "40596645775b74c754c1f97aa81218ccbae0564b"
      },
      "cell_type": "markdown",
      "source": "## Step 5: Add is_alone variable\n\nThe chances of survival go up for families. To find if someone is alone, we check if the sum of SibSp and Parch is 0."
    },
    {
      "metadata": {
        "_uuid": "862c0f42a04bde59239c2e84c75b8c468e373a9a",
        "trusted": true
      },
      "cell_type": "code",
      "source": "is_alone = (data['Parch'] + data['SibSp'] == 0).astype(int)",
      "execution_count": 20,
      "outputs": []
    },
    {
      "metadata": {
        "_uuid": "45e155c0623ca23faa1e72d590452cb7cc00c38a",
        "trusted": true
      },
      "cell_type": "code",
      "source": "data['is_alone'] = is_alone",
      "execution_count": 21,
      "outputs": []
    },
    {
      "metadata": {
        "_uuid": "eeeac3812cba6a8fc28c8bbf9e0294e7219b9d14",
        "trusted": true
      },
      "cell_type": "code",
      "source": "sns.barplot(x = 'is_alone', y = 'Survived', data = data[:m])\nplt.show()",
      "execution_count": 22,
      "outputs": [
        {
          "output_type": "display_data",
          "data": {
            "text/plain": "<Figure size 432x288 with 1 Axes>",
            "image/png": "[encoded data removed]"
          },
          "metadata": {}
        }
      ]
    },
    {
      "metadata": {
        "_uuid": "6013a041d442ace73ff027383657f7086dca0df9"
      },
      "cell_type": "markdown",
      "source": "## Step 6: Convert data to categorical variables"
    },
    {
      "metadata": {
        "_uuid": "0d8019d0483d55d29d56deeee5e0f852f804dfce",
        "trusted": true
      },
      "cell_type": "code",
      "source": "data.columns",
      "execution_count": 23,
      "outputs": [
        {
          "output_type": "execute_result",
          "execution_count": 23,
          "data": {
            "text/plain": "Index(['Age', 'Cabin', 'Embarked', 'Fare', 'Name', 'Parch', 'PassengerId',\n       'Pclass', 'Sex', 'SibSp', 'Survived', 'Ticket', 'Title', 'is_alone'],\n      dtype='object')"
          },
          "metadata": {}
        }
      ]
    },
    {
      "metadata": {
        "_uuid": "ab566c7033374a97a201671f611772227d691a25",
        "scrolled": true,
        "trusted": true
      },
      "cell_type": "code",
      "source": "catCols.extend(['Title', 'is_alone'])",
      "execution_count": 24,
      "outputs": []
    },
    {
      "metadata": {
        "_uuid": "bf8b0cbb6c11cd10f41004b0b24345ff6d499824",
        "trusted": true
      },
      "cell_type": "code",
      "source": "catCols",
      "execution_count": 25,
      "outputs": [
        {
          "output_type": "execute_result",
          "execution_count": 25,
          "data": {
            "text/plain": "['Pclass', 'Sex', 'SibSp', 'Parch', 'Embarked', 'Title', 'is_alone']"
          },
          "metadata": {}
        }
      ]
    },
    {
      "metadata": {
        "_uuid": "3702d32891664d21b52958757312196dd142a165",
        "trusted": true
      },
      "cell_type": "code",
      "source": "def convertCatValToNum(catVal):\n    le = LabelEncoder()\n    le.fit(catVal)\n    catVal = le.transform(catVal)\n    return catVal\n\n\nfor i in catCols:\n    data[i] = convertCatValToNum(data[i])",
      "execution_count": 26,
      "outputs": []
    },
    {
      "metadata": {
        "_uuid": "00d0ff7e854e459705cd6cd4f64b1f9e8bcf1b6b"
      },
      "cell_type": "markdown",
      "source": "## Step 7: Normalize data to be between 0 and 1\n\nSince our output is binary i.e. either 0 or 1, training a machine learning algorithm is faster when inputs are also in the same range."
    },
    {
      "metadata": {
        "_uuid": "a26f3c82abcfac85d102e6a341083293102c9d97",
        "trusted": true
      },
      "cell_type": "code",
      "source": "data.columns",
      "execution_count": 27,
      "outputs": [
        {
          "output_type": "execute_result",
          "execution_count": 27,
          "data": {
            "text/plain": "Index(['Age', 'Cabin', 'Embarked', 'Fare', 'Name', 'Parch', 'PassengerId',\n       'Pclass', 'Sex', 'SibSp', 'Survived', 'Ticket', 'Title', 'is_alone'],\n      dtype='object')"
          },
          "metadata": {}
        }
      ]
    },
    {
      "metadata": {
        "_uuid": "875ce963ac5ef4904754917424cc3d806281dec3"
      },
      "cell_type": "markdown",
      "source": "Out of the above columns we will select only those we think affect the outcome i.e. 'Survived' column. "
    },
    {
      "metadata": {
        "_uuid": "eb02168b4dcb1177fa38ae496cf6e2f8f44c0b4b",
        "trusted": true
      },
      "cell_type": "code",
      "source": "Xcols = ['Pclass', 'Sex', 'Age', 'SibSp', 'Parch', 'Fare', 'Embarked', 'Title', 'is_alone']",
      "execution_count": 28,
      "outputs": []
    },
    {
      "metadata": {
        "_uuid": "385d0d70ac83a12daa1e0c4df379fd253b41140a",
        "trusted": true
      },
      "cell_type": "code",
      "source": "data[Xcols].info()",
      "execution_count": 29,
      "outputs": [
        {
          "output_type": "stream",
          "text": "<class 'pandas.core.frame.DataFrame'>\nRangeIndex: 1309 entries, 0 to 1308\nData columns (total 9 columns):\nPclass      1309 non-null int64\nSex         1309 non-null int64\nAge         1309 non-null float64\nSibSp       1309 non-null int64\nParch       1309 non-null int64\nFare        1309 non-null float64\nEmbarked    1309 non-null int64\nTitle       1309 non-null int64\nis_alone    1309 non-null int64\ndtypes: float64(2), int64(7)\nmemory usage: 92.1 KB\n",
          "name": "stdout"
        }
      ]
    },
    {
      "metadata": {
        "_uuid": "2b131bf07d526f2409c66ef4d6f65e24912faecf",
        "trusted": true
      },
      "cell_type": "code",
      "source": "scaler = MinMaxScaler()\nscaler.fit(data[Xcols])\nX = scaler.transform(data[Xcols])",
      "execution_count": 30,
      "outputs": []
    },
    {
      "metadata": {
        "_uuid": "d6cb949840c0733f68a6639dd0e1be7f3dc4deeb",
        "trusted": true
      },
      "cell_type": "code",
      "source": "# Check if the features have been correctly scaled\n\nX_stats = pd.DataFrame()\nX_stats['Min'] = np.min(X, axis = 0)\nX_stats['Max'] = np.max(X, axis = 0)\nX_stats['Mean'] = np.mean(X, axis = 0)\nX_stats",
      "execution_count": 31,
      "outputs": [
        {
          "output_type": "execute_result",
          "execution_count": 31,
          "data": {
            "text/plain": "   Min  Max      Mean\n0  0.0  1.0  0.647441\n1  0.0  1.0  0.644003\n2  0.0  1.0  0.372349\n3  0.0  1.0  0.080851\n4  0.0  1.0  0.054567\n5  0.0  1.0  0.064988\n6  0.0  1.0  0.746753\n7  0.0  1.0  0.383652\n8  0.0  1.0  0.603514",
            "text/html": "<div>\n<style scoped>\n    .dataframe tbody tr th:only-of-type {\n        vertical-align: middle;\n    }\n\n    .dataframe tbody tr th {\n        vertical-align: top;\n    }\n\n    .dataframe thead th {\n        text-align: right;\n    }\n</style>\n<table border=\"1\" class=\"dataframe\">\n  <thead>\n    <tr style=\"text-align: right;\">\n      <th></th>\n      <th>Min</th>\n      <th>Max</th>\n      <th>Mean</th>\n    </tr>\n  </thead>\n  <tbody>\n    <tr>\n      <th>0</th>\n      <td>0.0</td>\n      <td>1.0</td>\n      <td>0.647441</td>\n    </tr>\n    <tr>\n      <th>1</th>\n      <td>0.0</td>\n      <td>1.0</td>\n      <td>0.644003</td>\n    </tr>\n    <tr>\n      <th>2</th>\n      <td>0.0</td>\n      <td>1.0</td>\n      <td>0.372349</td>\n    </tr>\n    <tr>\n      <th>3</th>\n      <td>0.0</td>\n      <td>1.0</td>\n      <td>0.080851</td>\n    </tr>\n    <tr>\n      <th>4</th>\n      <td>0.0</td>\n      <td>1.0</td>\n      <td>0.054567</td>\n    </tr>\n    <tr>\n      <th>5</th>\n      <td>0.0</td>\n      <td>1.0</td>\n      <td>0.064988</td>\n    </tr>\n    <tr>\n      <th>6</th>\n      <td>0.0</td>\n      <td>1.0</td>\n      <td>0.746753</td>\n    </tr>\n    <tr>\n      <th>7</th>\n      <td>0.0</td>\n      <td>1.0</td>\n      <td>0.383652</td>\n    </tr>\n    <tr>\n      <th>8</th>\n      <td>0.0</td>\n      <td>1.0</td>\n      <td>0.603514</td>\n    </tr>\n  </tbody>\n</table>\n</div>"
          },
          "metadata": {}
        }
      ]
    },
    {
      "metadata": {
        "_uuid": "2b256aabab97efe7fd56e2035c1b7a9ac643e8af"
      },
      "cell_type": "markdown",
      "source": "## Step 8: Separate labels (y) from data"
    },
    {
      "metadata": {
        "_uuid": "cd497adfc6a95fdf27ac47cde037e8a2f9c0ac36",
        "trusted": true
      },
      "cell_type": "code",
      "source": "y = np.expand_dims(data[:m].Survived.values,1)",
      "execution_count": 32,
      "outputs": []
    },
    {
      "metadata": {
        "_uuid": "2376edd286ea4ee6a458c93a334e8c5840d0ef82",
        "trusted": true
      },
      "cell_type": "code",
      "source": "y.shape",
      "execution_count": 33,
      "outputs": [
        {
          "output_type": "execute_result",
          "execution_count": 33,
          "data": {
            "text/plain": "(891, 1)"
          },
          "metadata": {}
        }
      ]
    },
    {
      "metadata": {
        "trusted": true,
        "_uuid": "549729ec26faa2a11501fce00c66e67b903a48e1"
      },
      "cell_type": "code",
      "source": "# Save preprocessed data to file\n\nX_file = 'X.npy'\n#np.save(X_file, X)\n\ny_file = 'y.npy'\n#np.save(y_file, y)",
      "execution_count": 34,
      "outputs": []
    },
    {
      "metadata": {
        "trusted": true,
        "_uuid": "66073dabaff852912657e213dadcae439fb2ac33"
      },
      "cell_type": "code",
      "source": "# Load preprocessed data from file\n\n\n#X = np.load(X_file)\n\n#y = np.load(y_file)",
      "execution_count": 35,
      "outputs": []
    },
    {
      "metadata": {
        "_uuid": "ec4f998f4d6a76bb41844d46bd3607e784d9776a"
      },
      "cell_type": "markdown",
      "source": "## Step 9: Create training and dev sets\n\nValidation (dev) set is useful to know how the model performs on data it has not seen. We will randomly select 10% of the data as a validation set. The test set is already provided separately by Kaggle."
    },
    {
      "metadata": {
        "_uuid": "4f3e79dd820fcb92d68f45da8a6265dca8c0f512",
        "trusted": true
      },
      "cell_type": "code",
      "source": "# Set random seed\n\nseed = 5\nnp.random.seed(seed)\n\n# Get random training index\n\ntrain_index = np.random.choice(m, round(m*0.9), replace=False)\ndev_index = np.array(list(set(range(m)) - set(train_index)))\n\ntest_index = range(m, data.shape[0])\n# Make training and dev\n\n\nX_train = X[train_index]\nX_dev = X[dev_index]\nX_test = X[test_index]\n\ny_train = y[train_index]\ny_dev = y[dev_index]\n",
      "execution_count": 36,
      "outputs": []
    },
    {
      "metadata": {
        "_uuid": "3c4a42e034485132f9e36a792bee30094eab4da0",
        "trusted": true
      },
      "cell_type": "code",
      "source": "y_dev.shape",
      "execution_count": 37,
      "outputs": [
        {
          "output_type": "execute_result",
          "execution_count": 37,
          "data": {
            "text/plain": "(89, 1)"
          },
          "metadata": {}
        }
      ]
    },
    {
      "metadata": {
        "_uuid": "83ecba1186ff8a3b3803092a12e261402d4176e8"
      },
      "cell_type": "markdown",
      "source": "## Step 10: Set up neural network to predict y"
    },
    {
      "metadata": {
        "_uuid": "74391b16e58d8316db88a8d309c858681beefac1",
        "trusted": true
      },
      "cell_type": "code",
      "source": "# Initialize placeholders for data\nn = X.shape[1]\nx = tf.placeholder(dtype=tf.float32, shape=[None, n], name = 'inputs_ph')\ny = tf.placeholder(dtype=tf.float32, shape=[None, 1], name = 'labels_ph')",
      "execution_count": 38,
      "outputs": []
    },
    {
      "metadata": {
        "_uuid": "005713ce5c6cc97468437648bd34bc46b8ca22f8",
        "trusted": true
      },
      "cell_type": "code",
      "source": "# number of neurons in each layer\n\ninput_num_units = n\nhidden_num_units = 120\noutput_num_units = 1",
      "execution_count": 39,
      "outputs": []
    },
    {
      "metadata": {
        "_uuid": "811074055a110506c412ba45b3fd52bc1a92bf26",
        "trusted": true
      },
      "cell_type": "code",
      "source": "# Build Neural Network Weights\ninitializer = tf.contrib.layers.xavier_initializer()\nweights = {\n    'hidden1': tf.Variable(initializer([input_num_units, hidden_num_units])),\n    'hidden2': tf.Variable(initializer([hidden_num_units, hidden_num_units])),\n    'hidden3': tf.Variable(initializer([hidden_num_units, hidden_num_units])),\n    'output': tf.Variable(initializer([hidden_num_units, output_num_units])),\n}\n\nbiases = {\n    'hidden1': tf.Variable(initializer([hidden_num_units])),\n    'hidden2': tf.Variable(initializer([hidden_num_units])),\n    'hidden3': tf.Variable(initializer([hidden_num_units])),\n    'output': tf.Variable(initializer([output_num_units])),\n}",
      "execution_count": 40,
      "outputs": []
    },
    {
      "metadata": {
        "_uuid": "f64ae40cd6994d1c0a03388169f190017b02ecf4",
        "trusted": true
      },
      "cell_type": "code",
      "source": "# Build model \n\nkeep_prob = tf.placeholder(dtype=tf.float32, name = 'keep_prob')\n\nhidden_1_layer = tf.add(tf.matmul(x, weights['hidden1']), biases['hidden1'])\nhidden_1_layer = tf.nn.dropout(tf.nn.relu(hidden_1_layer),keep_prob = keep_prob)\nhidden_2_layer = tf.add(tf.matmul(hidden_1_layer, weights['hidden2']), biases['hidden2'])\nhidden_2_layer = tf.nn.dropout(tf.nn.relu(hidden_2_layer),keep_prob = keep_prob)\nhidden_3_layer = tf.add(tf.matmul(hidden_2_layer, weights['hidden2']), biases['hidden3'])\nhidden_3_layer = tf.nn.dropout(tf.nn.relu(hidden_3_layer),keep_prob = keep_prob)\n\noutput_layer = tf.matmul(hidden_3_layer, weights['output']) + biases['output']\n",
      "execution_count": 41,
      "outputs": []
    },
    {
      "metadata": {
        "_uuid": "5fac17a998fc8dcb7a411ef8e19c61416fc1da32",
        "trusted": true
      },
      "cell_type": "code",
      "source": "# Set hyperparameters\n\nlearning_rate = 3e-4\nepochs = 4000",
      "execution_count": 42,
      "outputs": []
    },
    {
      "metadata": {
        "_uuid": "519627084bee0b497cb14052ddbfb2b75952277f",
        "trusted": true
      },
      "cell_type": "code",
      "source": "# Set loss function and goal i.e. minimize loss\n\nloss = tf.reduce_mean(tf.nn.sigmoid_cross_entropy_with_logits(logits=output_layer, labels=y))\nopt = tf.train.AdamOptimizer(learning_rate)\ngoal = opt.minimize(loss)",
      "execution_count": 43,
      "outputs": []
    },
    {
      "metadata": {
        "_uuid": "6e240f266dd5d65b2426afe2c7375dcdd9fd82be",
        "trusted": true
      },
      "cell_type": "code",
      "source": "prediction = tf.round(tf.nn.sigmoid(output_layer), name = 'prediction')\ncorrect = tf.cast(tf.equal(prediction, y), dtype=tf.float32)\nrecall = tf.metrics.recall(labels = y, predictions = prediction)\naccuracy = tf.reduce_mean(correct)",
      "execution_count": 44,
      "outputs": []
    },
    {
      "metadata": {
        "_uuid": "0e9ed48dde04e541503f69e3264e675c80346c34",
        "trusted": true
      },
      "cell_type": "code",
      "source": "# Initialize lists to store loss and accuracy while training the model\n\nloss_trace = []\ntrain_acc = []\ndev_acc = []",
      "execution_count": 45,
      "outputs": []
    },
    {
      "metadata": {
        "_uuid": "fcc1359490f694efccbb0cae2d06fff250180d9b",
        "trusted": true
      },
      "cell_type": "code",
      "source": "# Start tensorflow session\n\ninit = tf.global_variables_initializer()\nsess = tf.Session()\nsess.run(init)",
      "execution_count": 46,
      "outputs": []
    },
    {
      "metadata": {
        "trusted": true,
        "_uuid": "75592014795d68527103131ef540fec15d484cef"
      },
      "cell_type": "code",
      "source": "# Train the model\n\nfor epoch in range(epochs):\n    \n    sess.run(goal, feed_dict={x: X_train, y: y_train, keep_prob: 0.5})\n\n    # calculate results for epoch\n\n    temp_loss = sess.run(loss, feed_dict={x: X_train, y: y_train, keep_prob: 1})\n    temp_train_acc = sess.run(accuracy, feed_dict={x: X_train, y: y_train, keep_prob: 1})\n    temp_dev_acc = sess.run(accuracy, feed_dict={x: X_dev, y: y_dev, keep_prob: 1})\n\n    # save results in a list\n\n    loss_trace.append(temp_loss)\n    train_acc.append(temp_train_acc)\n    dev_acc.append(temp_dev_acc)\n\n    # output\n\n    if (epoch + 1) % 200 == 0:\n        print('epoch: {:4d} loss: {:5f} train_acc: {:5f} dev_acc: {:5f}'.format(epoch + 1, temp_loss, temp_train_acc, temp_dev_acc))\n\n",
      "execution_count": 47,
      "outputs": [
        {
          "output_type": "stream",
          "text": "epoch:  200 loss: 0.434287 train_acc: 0.815461 dev_acc: 0.741573\nepoch:  400 loss: 0.406598 train_acc: 0.829177 dev_acc: 0.741573\nepoch:  600 loss: 0.384045 train_acc: 0.842893 dev_acc: 0.775281\nepoch:  800 loss: 0.371601 train_acc: 0.851621 dev_acc: 0.797753\nepoch: 1000 loss: 0.364604 train_acc: 0.852868 dev_acc: 0.775281\nepoch: 1200 loss: 0.360036 train_acc: 0.854115 dev_acc: 0.786517\nepoch: 1400 loss: 0.356180 train_acc: 0.854115 dev_acc: 0.786517\nepoch: 1600 loss: 0.352075 train_acc: 0.854115 dev_acc: 0.775281\nepoch: 1800 loss: 0.348953 train_acc: 0.854115 dev_acc: 0.786517\nepoch: 2000 loss: 0.345365 train_acc: 0.856608 dev_acc: 0.797753\nepoch: 2200 loss: 0.340359 train_acc: 0.859102 dev_acc: 0.786517\nepoch: 2400 loss: 0.336636 train_acc: 0.859102 dev_acc: 0.797753\nepoch: 2600 loss: 0.332732 train_acc: 0.864090 dev_acc: 0.797753\nepoch: 2800 loss: 0.328844 train_acc: 0.860349 dev_acc: 0.786517\nepoch: 3000 loss: 0.324388 train_acc: 0.865337 dev_acc: 0.786517\nepoch: 3200 loss: 0.321218 train_acc: 0.870324 dev_acc: 0.786517\nepoch: 3400 loss: 0.318729 train_acc: 0.872818 dev_acc: 0.786517\nepoch: 3600 loss: 0.314888 train_acc: 0.871571 dev_acc: 0.786517\nepoch: 3800 loss: 0.312330 train_acc: 0.875312 dev_acc: 0.786517\nepoch: 4000 loss: 0.308832 train_acc: 0.876559 dev_acc: 0.786517\n",
          "name": "stdout"
        }
      ]
    },
    {
      "metadata": {
        "_uuid": "f3078023dd97cba907b2dbc676d9d27bc2b3571e"
      },
      "cell_type": "markdown",
      "source": "## Step 11: Create submission file and submit"
    },
    {
      "metadata": {
        "_uuid": "7c2ba148353d87b5bb6fe3c34a0477a5f2d6e935",
        "trusted": true
      },
      "cell_type": "code",
      "source": "plt.plot(loss_trace)",
      "execution_count": 48,
      "outputs": [
        {
          "output_type": "execute_result",
          "execution_count": 48,
          "data": {
            "text/plain": "[<matplotlib.lines.Line2D at 0x7fe33e7a4470>]"
          },
          "metadata": {}
        },
        {
          "output_type": "display_data",
          "data": {
            "text/plain": "<Figure size 432x288 with 1 Axes>",
            "image/png": "[encoded data removed]"
          },
          "metadata": {}
        }
      ]
    },
    {
      "metadata": {
        "_uuid": "29b49049f4e4af076fa3c92dddec92897356a0ce",
        "trusted": true
      },
      "cell_type": "code",
      "source": "y_train_preds_nn = sess.run(prediction, feed_dict ={x: X_train, keep_prob: 1})\ny_dev_preds_nn = sess.run(prediction, feed_dict ={x: X_dev, keep_prob: 1})\ny_test_preds_nn = sess.run(prediction, feed_dict ={x: X_test, keep_prob: 1})",
      "execution_count": 49,
      "outputs": []
    },
    {
      "metadata": {
        "trusted": true,
        "_uuid": "725fa45a93a2d8f0a3d6a1e724cb8826570e4c50"
      },
      "cell_type": "code",
      "source": "# Save model for future predictions\n\ninputs_dict = {'inputs_ph': x, 'labels_ph': y, 'keep_prob': keep_prob}\noutputs_dict = {'prediction': prediction}\ntf.saved_model.simple_save(sess, 'simple', inputs_dict, outputs_dict)",
      "execution_count": 50,
      "outputs": []
    },
    {
      "metadata": {
        "_uuid": "417f4899ca3e0068e9e1e5c0a72ef85bd4b24d81",
        "trusted": true
      },
      "cell_type": "code",
      "source": "sess.close()",
      "execution_count": 51,
      "outputs": []
    },
    {
      "metadata": {
        "trusted": true,
        "_uuid": "bc50c04297bea0c4bb79b227fc89f2f38e797ada"
      },
      "cell_type": "code",
      "source": "# Restore saved model\n\ngraph = tf.get_default_graph()\nwith tf.Session(graph = graph) as sess:\n    # Restore saved values\n    print('\\nRestoring...')\n    tf.saved_model.loader.load(sess, [tag_constants.SERVING], 'simple')\n    print('Ok')\n    # Get restored placeholders\n    x = graph.get_tensor_by_name('inputs_ph:0')\n    keep_prob = graph.get_tensor_by_name('keep_prob:0')\n    \n    # Get restored model output\n    prediction = graph.get_tensor_by_name('prediction:0')\n\n    # Initialize restored dataset\n    y_train_preds_nn_saved = sess.run(prediction, feed_dict={x: X_train, keep_prob: 1})\n    y_test_preds_nn_saved = sess.run(prediction, feed_dict={x: X_test, keep_prob: 1})",
      "execution_count": 52,
      "outputs": [
        {
          "output_type": "stream",
          "text": "\nRestoring...\nOk\n",
          "name": "stdout"
        }
      ]
    },
    {
      "metadata": {
        "trusted": true,
        "_uuid": "f84c2f53bd372de7216d9032ba563719b78332ae"
      },
      "cell_type": "code",
      "source": "# Check if original and restored predictions are same\n\nconfusion_matrix(y_train_preds_nn_saved, y_train_preds_nn)",
      "execution_count": 53,
      "outputs": [
        {
          "output_type": "execute_result",
          "execution_count": 53,
          "data": {
            "text/plain": "array([[561,   0],\n       [  0, 241]])"
          },
          "metadata": {}
        }
      ]
    },
    {
      "metadata": {
        "_uuid": "c28b6fc1a1e004b99d2597dc8da97d9f1739726c"
      },
      "cell_type": "markdown",
      "source": "Since the confusion matrix only has diagonal elements, the predictions match."
    },
    {
      "metadata": {
        "_uuid": "e99ec2b234c59d468071c5919434c004f29ec910",
        "trusted": true
      },
      "cell_type": "code",
      "source": "def get_recall(labels, preds):\n    tp = int(np.dot(labels.T,preds))\n    fn = int(np.dot(labels.T,1-preds))\n    recall = tp/(tp+fn)\n    return recall",
      "execution_count": 54,
      "outputs": []
    },
    {
      "metadata": {
        "_uuid": "c8ce897304818a68be60d29a626878e7254fbcf6",
        "trusted": true
      },
      "cell_type": "code",
      "source": "recall_nn = get_recall(y_train, y_train_preds_nn)\nrecall_nn",
      "execution_count": 55,
      "outputs": [
        {
          "output_type": "execute_result",
          "execution_count": 55,
          "data": {
            "text/plain": "0.7305194805194806"
          },
          "metadata": {}
        }
      ]
    },
    {
      "metadata": {
        "_uuid": "1ffc44b0ac3828b0e33517bd652e9a29356a703c",
        "trusted": true
      },
      "cell_type": "code",
      "source": "test['Survived_nn'] = y_test_preds_nn.astype(int)",
      "execution_count": 56,
      "outputs": []
    },
    {
      "metadata": {
        "_uuid": "bfe7bfff15d614212e8c55d13fccdd1ae4ab023e",
        "scrolled": true,
        "trusted": true
      },
      "cell_type": "code",
      "source": "test[['PassengerId', 'Survived_nn']].to_csv('submission_nn.csv', index = False, header = ['PassengerId', 'Survived'])",
      "execution_count": 57,
      "outputs": []
    },
    {
      "metadata": {
        "_uuid": "fc8985976861d80e5f218b91f023e55cce824533"
      },
      "cell_type": "markdown",
      "source": "## Step 12: Try Other Models - SVM and Random Forest"
    },
    {
      "metadata": {
        "_uuid": "89e882c988bfd49530e114ee16bcd6f12abaf6f9",
        "trusted": true
      },
      "cell_type": "code",
      "source": "svclassifier = SVC()\nsvclassifier.fit(X_train, y_train) ",
      "execution_count": 58,
      "outputs": [
        {
          "output_type": "execute_result",
          "execution_count": 58,
          "data": {
            "text/plain": "SVC(C=1.0, cache_size=200, class_weight=None, coef0=0.0,\n  decision_function_shape='ovr', degree=3, gamma='auto_deprecated',\n  kernel='rbf', max_iter=-1, probability=False, random_state=None,\n  shrinking=True, tol=0.001, verbose=False)"
          },
          "metadata": {}
        }
      ]
    },
    {
      "metadata": {
        "_uuid": "d7be185afe06dcce5bfb0bb5a61ba8e688720691",
        "trusted": true
      },
      "cell_type": "code",
      "source": "y_train_preds_svm = np.expand_dims(svclassifier.predict(X_train),1)\ntrain_acc_svm = np.mean(y_train == y_train_preds_svm)\nprint('Train Accuracy for SVM: {:5f}'.format(train_acc_svm))",
      "execution_count": 59,
      "outputs": [
        {
          "output_type": "stream",
          "text": "Train Accuracy for SVM: 0.795511\n",
          "name": "stdout"
        }
      ]
    },
    {
      "metadata": {
        "_uuid": "6749c3a2269e2da21dbfb469a15b9b40c6edaadf",
        "trusted": true
      },
      "cell_type": "code",
      "source": "y_test_preds_svm = svclassifier.predict(X_test)",
      "execution_count": 60,
      "outputs": []
    },
    {
      "metadata": {
        "_uuid": "7bc3446f0064c08b62e511cba4415c70056f72c5",
        "trusted": true
      },
      "cell_type": "code",
      "source": "recall_svm = get_recall(y_train, y_train_preds_svm)\nrecall_svm",
      "execution_count": 61,
      "outputs": [
        {
          "output_type": "execute_result",
          "execution_count": 61,
          "data": {
            "text/plain": "0.6883116883116883"
          },
          "metadata": {}
        }
      ]
    },
    {
      "metadata": {
        "_uuid": "e4444a267978a394dfb70de14bcae9d8a18e0679",
        "trusted": true
      },
      "cell_type": "code",
      "source": "test['Survived_svm'] = y_test_preds_svm.astype(int)",
      "execution_count": 62,
      "outputs": []
    },
    {
      "metadata": {
        "_uuid": "7587a1d14121622c625380dfb749d23e3257357d",
        "trusted": true
      },
      "cell_type": "code",
      "source": "test[['PassengerId', 'Survived_svm']].to_csv('submission_svm.csv', index = False, header = ['PassengerId', 'Survived'])",
      "execution_count": 63,
      "outputs": []
    },
    {
      "metadata": {
        "_uuid": "621f9a5a1bc01435c106d6f9656ab4ec9f69d299",
        "trusted": true
      },
      "cell_type": "code",
      "source": "rfclassifier = RandomForestClassifier(n_estimators = 100, max_features = 4)\nrfclassifier.fit(X_train, y_train) ",
      "execution_count": 64,
      "outputs": [
        {
          "output_type": "execute_result",
          "execution_count": 64,
          "data": {
            "text/plain": "RandomForestClassifier(bootstrap=True, class_weight=None, criterion='gini',\n            max_depth=None, max_features=4, max_leaf_nodes=None,\n            min_impurity_decrease=0.0, min_impurity_split=None,\n            min_samples_leaf=1, min_samples_split=2,\n            min_weight_fraction_leaf=0.0, n_estimators=100, n_jobs=None,\n            oob_score=False, random_state=None, verbose=0,\n            warm_start=False)"
          },
          "metadata": {}
        }
      ]
    },
    {
      "metadata": {
        "_uuid": "0026a4cb1e2738f3a4764ee65e87298d4aca1d35",
        "trusted": true
      },
      "cell_type": "code",
      "source": "y_train_preds_rf = np.expand_dims(rfclassifier.predict(X_train),1)\ntrain_acc_rf = np.mean(y_train == y_train_preds_rf)\nprint('Train Accuracy for Random Forest: {:5f}'.format(train_acc_rf))",
      "execution_count": 65,
      "outputs": [
        {
          "output_type": "stream",
          "text": "Train Accuracy for Random Forest: 0.985037\n",
          "name": "stdout"
        }
      ]
    },
    {
      "metadata": {
        "_uuid": "1c3da05c5ab96c6382f30d075bdfa78265304f83",
        "trusted": true
      },
      "cell_type": "code",
      "source": "y_dev_preds_rf = np.expand_dims(rfclassifier.predict(X_dev),1)\ndev_acc_rf = np.mean(y_dev == y_dev_preds_rf)\nprint('Dev Accuracy for Random Forest: {:5f}'.format(dev_acc_rf))",
      "execution_count": 66,
      "outputs": [
        {
          "output_type": "stream",
          "text": "Dev Accuracy for Random Forest: 0.764045\n",
          "name": "stdout"
        }
      ]
    },
    {
      "metadata": {
        "_uuid": "bfb1dd12d29edbb3a8e112f654841a8c93a9a77f",
        "trusted": true
      },
      "cell_type": "code",
      "source": "recall_rf = get_recall(y_train, y_train_preds_rf)\nrecall_rf",
      "execution_count": 67,
      "outputs": [
        {
          "output_type": "execute_result",
          "execution_count": 67,
          "data": {
            "text/plain": "0.974025974025974"
          },
          "metadata": {}
        }
      ]
    },
    {
      "metadata": {
        "_uuid": "2fd61856f1a1ddb3fac12c6ef0a3a9803a615765",
        "trusted": true
      },
      "cell_type": "code",
      "source": "y_test_preds_rf = rfclassifier.predict(X_test)",
      "execution_count": 68,
      "outputs": []
    },
    {
      "metadata": {
        "_uuid": "0234daaa7f5a4df14833e3b950410d4def5d17b0",
        "trusted": true
      },
      "cell_type": "code",
      "source": "test['Survived_rf'] = y_test_preds_rf.astype(int)",
      "execution_count": 69,
      "outputs": []
    },
    {
      "metadata": {
        "_uuid": "93df12714d49c0ec8160f69e7a8c496616a6002a",
        "trusted": true
      },
      "cell_type": "code",
      "source": "test[['PassengerId', 'Survived_rf']].to_csv('submission_rf.csv', index = False, header = ['PassengerId', 'Survived'])",
      "execution_count": 70,
      "outputs": []
    },
    {
      "metadata": {
        "_uuid": "6944e7028130beb3241706047aff366162a9ecbe"
      },
      "cell_type": "markdown",
      "source": "# Step 13: Average All Predictions"
    },
    {
      "metadata": {
        "_uuid": "289f09c0b0f681b65ca101568263de9b0022eefb",
        "trusted": true
      },
      "cell_type": "code",
      "source": "test.columns",
      "execution_count": 71,
      "outputs": [
        {
          "output_type": "execute_result",
          "execution_count": 71,
          "data": {
            "text/plain": "Index(['PassengerId', 'Pclass', 'Name', 'Sex', 'Age', 'SibSp', 'Parch',\n       'Ticket', 'Fare', 'Cabin', 'Embarked', 'Survived_nn', 'Survived_svm',\n       'Survived_rf'],\n      dtype='object')"
          },
          "metadata": {}
        }
      ]
    },
    {
      "metadata": {
        "_uuid": "dbf269ce3220158388d7f8585d5fba8eea61ed8c",
        "trusted": true
      },
      "cell_type": "code",
      "source": "test['Survived_nn_wtd'] = test['Survived_nn']*recall_nn\ntest['Survived_svm_wtd'] = test['Survived_svm']*recall_svm\ntest['Survived_rf_wtd'] = test['Survived_nn']*recall_rf",
      "execution_count": 72,
      "outputs": []
    },
    {
      "metadata": {
        "_uuid": "aed5273aa31773e34ec24ce3bf68f8488535db8f",
        "trusted": true
      },
      "cell_type": "code",
      "source": "y_test_preds_avg = np.round(np.mean(test[['Survived_nn', 'Survived_svm','Survived_rf']],axis = 1))",
      "execution_count": 73,
      "outputs": []
    },
    {
      "metadata": {
        "_uuid": "3e3e995160d1d0e897f11a3d2e9e227b752a1632",
        "trusted": true
      },
      "cell_type": "code",
      "source": "y_test_preds_wtd_avg = np.round(np.mean(test[['Survived_nn_wtd', 'Survived_svm_wtd','Survived_rf_wtd']],axis = 1))",
      "execution_count": 74,
      "outputs": []
    },
    {
      "metadata": {
        "_uuid": "fa3d3ee6c9c785f5ccf11874bb43fadbef48e9ee",
        "trusted": true
      },
      "cell_type": "code",
      "source": "test['Survived_avg'] = y_test_preds_avg.astype(int)",
      "execution_count": 75,
      "outputs": []
    },
    {
      "metadata": {
        "_uuid": "d0152adcb61ccd4ce7c758f872bb307937ed80cc",
        "trusted": true
      },
      "cell_type": "code",
      "source": "test['Survived_wtd_avg'] = y_test_preds_wtd_avg.astype(int)",
      "execution_count": 76,
      "outputs": []
    },
    {
      "metadata": {
        "_uuid": "78b4f75934459f4a40e40586b414ebb3451a1484",
        "trusted": true
      },
      "cell_type": "code",
      "source": "test[['PassengerId', 'Survived_avg']].to_csv('submission_avg.csv', index = False, header = ['PassengerId', 'Survived'])",
      "execution_count": 77,
      "outputs": []
    },
    {
      "metadata": {
        "_uuid": "00e7a26d4cf0a191e6321601521dc1a67689c67c",
        "trusted": true
      },
      "cell_type": "code",
      "source": "test[['PassengerId', 'Survived_wtd_avg']].to_csv('submission_wtd_avg.csv', index = False, header = ['PassengerId', 'Survived'])",
      "execution_count": 78,
      "outputs": []
    }
  ],
  "metadata": {
    "kernelspec": {
      "display_name": "Python 3",
      "language": "python",
      "name": "python3"
    },
    "language_info": {
      "name": "python",
      "version": "3.6.6",
      "mimetype": "text/x-python",
      "codemirror_mode": {
        "name": "ipython",
        "version": 3
      },
      "pygments_lexer": "ipython3",
      "nbconvert_exporter": "python",
      "file_extension": ".py"
    }
  },
  "nbformat": 4,
  "nbformat_minor": 1
}